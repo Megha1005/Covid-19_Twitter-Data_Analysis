{
 "cells": [
  {
   "cell_type": "code",
   "execution_count": 1,
   "metadata": {},
   "outputs": [],
   "source": [
    "# importing the dependencies\n",
    "import pandas as pd\n",
    "import numpy as np\n",
    "import itertools\n",
    "import matplotlib.pyplot as plt\n",
    "from sklearn.metrics import confusion_matrix\n",
    "import pickle\n",
    "import sklearn\n",
    "from sklearn import linear_model"
   ]
  },
  {
   "cell_type": "code",
   "execution_count": 2,
   "metadata": {},
   "outputs": [],
   "source": [
    "from vaderSentiment.vaderSentiment import SentimentIntensityAnalyzer \n",
    "import pandas as pd\n",
    "\n",
    "sentiment_intensity_analyzer = SentimentIntensityAnalyzer() \n",
    "def get_vader_sentiment(sentence, threshold=0.1): \n",
    "    if type(sentence) is not str:\n",
    "        return \"null\"\n",
    "     \n",
    "    sentiment_dict = sentiment_intensity_analyzer.polarity_scores(sentence) \n",
    "   \n",
    "    if sentiment_dict['compound'] >= threshold: \n",
    "        return \"positive\" \n",
    "  \n",
    "    elif sentiment_dict['compound'] <= -threshold: \n",
    "        return \"negative\"\n",
    "  \n",
    "    else: \n",
    "        return \"neutral\" "
   ]
  },
  {
   "cell_type": "code",
   "execution_count": 3,
   "metadata": {},
   "outputs": [],
   "source": [
    "from afinn import Afinn\n",
    "afn = Afinn(emoticons=True)\n",
    "\n",
    "def get_afn_sentiment(sentence, threshold=1.0): \n",
    "    if type(sentence) is not str:\n",
    "        return \"null\"\n",
    "    \n",
    "    score = afn.score(sentence)\n",
    "    \n",
    "    if score >= threshold: \n",
    "        return \"positive\" \n",
    "  \n",
    "    elif score <= -threshold: \n",
    "        return \"negative\"\n",
    "  \n",
    "    else: \n",
    "        return \"neutral\" \n",
    "    "
   ]
  },
  {
   "cell_type": "code",
   "execution_count": 4,
   "metadata": {},
   "outputs": [],
   "source": [
    "def convert_label_to_int(label):\n",
    "    if label is \"positive\":\n",
    "       return 1\n",
    "    elif label is \"negative\":\n",
    "        return -1\n",
    "    else:\n",
    "        return 0\n",
    "\n",
    "# Combines vader, afinn and text blob\n",
    "def get_combined_label(text_blob_label, vader_label, afn_label):\n",
    "    text_blob_score = convert_label_to_int(text_blob_label)\n",
    "    vader_score = convert_label_to_int(vader_label)\n",
    "    afn_score = convert_label_to_int(afn_label)\n",
    "    # 20 percent weightage to text blob, 40% to vader, 40% to afn\n",
    "    net_score = 0.2*text_blob_score + 0.4*vader_score + 0.4*afn_score\n",
    "    if net_score > 0.3:\n",
    "        return \"positive\"\n",
    "    elif net_score < -0.3:\n",
    "        return \"negative\"\n",
    "    else:\n",
    "        return \"neutral\""
   ]
  },
  {
   "cell_type": "code",
   "execution_count": 5,
   "metadata": {},
   "outputs": [],
   "source": [
    "# adds all columns to file\n",
    "def add_all_columns(input_file, output_file):\n",
    "    data = pd.read_csv(input_file)\n",
    "    data['afn_sentiment'] = data['text_clean'].apply(lambda text: get_afn_sentiment(text, 0.1))\n",
    "    data['vader_sentiment'] = data['text_clean'].apply(lambda text: get_vader_sentiment(text, 0.1))\n",
    "    data['ensemble_sentiment'] = data.apply(lambda row: \n",
    "                                        get_combined_label(row.sentiment, \n",
    "                                                           get_afn_sentiment(row.text_clean), \n",
    "                                                           get_vader_sentiment(row.text_clean)),\n",
    "                                        axis = 1)\n",
    "    data.to_csv(output_file, index=False)"
   ]
  },
  {
   "cell_type": "code",
   "execution_count": 6,
   "metadata": {},
   "outputs": [],
   "source": [
    "# add_all_columns('2020-01.csv', '2020-01-final.csv')\n",
    "# add_all_columns('2020-02.csv', '2020-02-final.csv')\n",
    "# add_all_columns('2020-03.csv', '2020-03-final.csv')\n",
    "# add_all_columns('2020-04.csv', '2020-04-final.csv')\n",
    "# add_all_columns('2020-05.csv', '2020-05-final.csv')"
   ]
  },
  {
   "cell_type": "code",
   "execution_count": 7,
   "metadata": {},
   "outputs": [],
   "source": [
    "# Groundtruth accuracy calculations\n",
    "input_str = '''covid kingcounty, washington state reports second coronavirus death, announcing first positive case covid new york city already identified close contacts individual may exposed take appropriate measures prevent spread covid, people get coronavirus whole world wants wear surgical mask million people aids still nobody wants wear condom, theres drive thru covid test north austin domain brockton drive austin tx fill online questionaire first getting tested, footage shows police new orleans attempting clear bourbon street louisianas governor signed proclamation banning gatherings people amid coronavirus outbreak, time bring home manufacturing drug ingredients coming china fda says shortages begun, repswalwell protip never listen biff democrat anything ever meet deborah l birx american physician diplomat coronavirus response coordinator white house birx served ambassadoratlarge united states global aids coordinator since, trump waited months corona virus became pandemic amp us deaths occurred declare public health emergency media would crash stock market hysteria obama it good, onairwill shirt taking advantage global pandemic profit family business immoral, cant wait white girls start lookin like white girls cause epidemic cycle kardashians steal black women white women want copy them call white people amp wonder wrong cause minds copied kardashians, really unseemly bernie praising communist china middle global pandemic started, chinas lockdown measures minimize coronavirus infections created one unexpected benefit dramatic improvement nations air quality, trump throws tanturm calls outlets report coronavirus fake news via politicususa, downtown nashville brought knees covid joke emergency physicians critical condition fighting lives exposed sure get drank on janna stupidity cost people lives covid, gallup poll numbers handling situation outstanding best thank you, one candidate obvious dementia one candidate heart disease debating coronavirus news network good times, kzhowell lab corp country cdc trying profit using central lab people going go jail, help us schools communities serve maintain continuity learning event prolonged school closures due coronavirus discovery education created threepronged response read, know president big job find increasingly weird much debate dedicated things pandemic could possibly one convulsive things happen country since last world war, gallup poll numbers handling situation outstanding best thank you, sleepy joe biden also said guns killed million americans last year wants win georgia super tuesday not up got speaking location wrong again, best set info ive found corona virus worth watching full mins, question citizens get together amp file massive class action lawsuits fox news lying amp gaslighting americans something abt this surely god legal pandemic serious need truth, erinmperrine realdonaldtrump administration took unprecedented early steps response coronavirus believe dems false apocalyptic spin try politicize virus sick politics brandonbeckham christian voice, stateowned newspaper iran says masoumeh ebtekar vice president islamic republic spokeswoman hostagetakers new coronavirus state media also reported iranian cleric hadi khosroshahi died coronavirus qom, new cdc recommends people cancel postpone inperson events consist people united states weeks, facts immigrants different countries affected china virus apprehended deemed inadmissible border includes china nearly people infected border security health security rt close border, adamserwer wonder cdc whistleblowers couple issues completely headscratching hope attributed staff budget cuts rather actual malice, arent blacks dying too yelled abyss, joe biden said cant deal pandemic changing healthcare system sir may beg differ, first positive coronavirus case confirmed new york state, orang yang pergi travel musim covid ni sumpah selfish gila, infectiousdz im imagining people getting planes wearing ns contaminating hands pushing order drink eat, cutenshsjsjfhdkkdk, oakland schools closing due coronavirus steph ayesha curry looking help donate million meals kids rely education system eat via eatlearnplay, needless say stand reporting white house google, punish trump november callin coronavirus hoax people dyin, sleepy joe biden also said guns killed million americans last year wants win georgia super tuesday not up got speaking location wrong again, nd coronavirususa death washington dont feel safer get info twitter news sources trump admin completely incompetent handle, yes serious want part insanity obsessive paranoid panic stresses actual virus calm smart actions covid, corona came becoming gym babe, people psychopaths unfit role public life, virginia dept health willing volunteer support covid response needed please register become virginia medical reserve corps volunteer email vamrcvdhvirginiagov, cdcgov issued new guidance recommending next weeks organizers cancel postpone inperson events consisting people more read cdcs latest covid guidance, step medical bill testing positive corona im, american scientists isnt coronavirus affecting africa africa, need comprehensive response coronavirus outbreak plan mounts decisive public health response curb spread disease provide treatment need decisive economic response delivers real relief, corona virus ni vergas, president trump announced today extend european travel ban include uk ireland part continuing efforts combat coronavirus nextrevfnc stevehiltonx, coronavirus got stressed out monterey aquarium closed public live streaming instead see birds sharks otters jellyfish penguins turtles plenty, dog hong kong tests positive coronavirus confirms, clarify isolation tested positive virus quarantine contact someone tested positive virus amp waiting see develop symptoms social distancing something everyone reduce risk transmission, wrong again trump misidentifies first coronavirus victim woman white house press conference via occupydemocrats, staying home due social distancing job shutting means money might issue reply venmo handle youre someone blessed ok currently consider helping folks reply here friendly texan thing do, watch this shows right thing stay home fullest extent possible us help slow spread virus protecting elderly vulnerable other, great idea businesses gov agencies serve public brainstorm find new ways serve vulnerable proactively implement social distancing practices customers, good advice nyc everywhere stay home stay home wash hands, trump tells us relax were great virus expert says worst yet come, coronavirus spreading concern growing economy taken hit tonight im addressing nation donald trump yet failed lead ive led crises before president ill trust science let experts jobs, speakerpelosi hes late late anemic hopefully make loss time speaker pelosi knocked pres trumps inadequate response spread coronavirus wtpteam onevoice, , realdonaldtrump lie airports chaos tests need them resign thrown hell office today trumpistheworstpresidentever trumpplague covid, coronavirus houston methodist hospital media wont say bc rodeo lose money joke, coronavirus donations btstwt fans reached almost million us according korea disaster relief association since suga whose hometown affected daegu donated million last month donations pouring in association said, birdieglad pannlewis graceslick gdijkhuyzen haldonahue veteransi daogtriple dltrunnell robinvolpi jhwilsh flints asoldiersvoice shawbear mahogany henleycarol mzdivah kingivan badshoehabit rk jamsride, today learned cdc mistakenly released patient texas center infectious disease later returned positive covid reading fact cdc allowed public exposed patient positive covid reading unacceptable full, protect ya neck coronavirus making thousand prints distributing across new york city feel free city share rt world wutang, new yorks first confirmed coronavirus case woman recently traveled iran gov cuomo said isolation manhattan home, san antonio mayor cdc released patient later tested positive covid, bernie sanders responded justification cubas human rights abuses justifying chinas human rights abuses yes really hes bad this demdebate, aint niggas dying didnt right, know actors much smarter us bs really care anyones opinion paying for, breaking second person died coronavirus covid seattle area five others critical condition, vincentcrypt lady gaga too john legend chrissy teigen people epstein flight log means corona connected pedofile wion, equinox refused close inventible happened member infected covid came gym almost certainly spreading virus, hoes mad, heres whats gonna happen coronavirus us testing cases starting now find hundreds cases suddenly testing backlog media use political stick amplifying panic happens, beauxhandsome wild part came china too, corona virus made new york stop worrying move back home months, we well control we pretty much shut down the numbers going get progressively better were going substantially down up one day like miracle disappear none true, jrehling world health organization estimates spanish flu death rate among infected people thats true corona could potentially tragedybut medical practices improved last years lets keep ol fingers crossed, breaking st clinical trial begin evaluating possible coronavirus vaccine could take year develop successful official says, nancy pelosi lot nerve wants lecture trump coronaviruswhile ignoring cesspool third world disease drugaddled homeless tent cities public spaces littered used needles human feces district pelosi utter fraud, us running food nations biggest retailers say food supply chain remains intact ramping meet unprecedented stockpiling brought coronavirus pandemic, , great idea businesses gov agencies serve public brainstorm find new ways serve vulnerable proactively implement social distancing practices customers, never know slapshot covid, statement chair petitioning covid virus, mississippi psc temporarily suspends disconnection utility services response covid coronavirus danemaxwellms brandonpresley brentgbailey, coronavirus ya es una pandemia opsoms qu es una pandemia, ah yes next game looking great residentevil coronapocalypse coronavirusupdates, who cdcgov bnodesk elonmusk mar mainland china exhubei coronavirus vs international week shift, coronavirus deaths china italy iran spain france korea us uk japan netherlands switzerland germany philippines iraq australia indonesia san marino belgium greece hong kong, disastrous communications anthrax attacks cdc wrote page manual communicate public health crises trump breaking every rule playbook via carolynyjohnson thewanreport, coronavirus updatemeeting mayor excused restroom forgot turn microphone dead, breaking second person died coronavirus covid seattle area five others critical condition, florida, coronavirus closing schools china month ago teacher thick passes best practices online learning, norway developed socialist country called students home usa citing poorly developed infrastructure say gop handling coronavirus shameful coronapocolypse demcast'''\n",
    "inputs = input_str.split(',')\n",
    "expected_op = ['neutral','negative','positive','negative','positive','negative','negative','negative','negative','negative','negative','negative','positive','neutral','negative','positive','positive','negative','neutral','negative','positive','negative','positive','negative','positive','negative','negative','negative','neutral','negative','neutral','negative','neutral','neutral','neutral','negative','neutral','negative','negative','negative','negative','positive','negative','positive','neutral','positive','positive','neutral','neutral','negative','neutral','negative','negative','negative','positive','positive','positive','positive','neutral','neutral','neutral','neutral','negative','negative','neutral','neutral','negative','neutral','negative','negative','negative','negative','neutral','negative','neutral','negative','negative','negative','negative','neutral','positive','positive','positive','negative','positive','neutral','positive','neutral','negative','negative','neutral','neutral','positive','negative','negative','neutral','negative','neutral','positive','negative']"
   ]
  },
  {
   "cell_type": "code",
   "execution_count": 8,
   "metadata": {},
   "outputs": [],
   "source": [
    "def get_vader_predictions_for_ground_truth():\n",
    "    outputs = []\n",
    "    for inp in inputs:\n",
    "        outputs.append(get_vader_sentiment(inp, 0.05))\n",
    "    return outputs\n",
    "\n",
    "def get_afn_predictions_for_ground_truth():\n",
    "    outputs = []\n",
    "    for inp in inputs:\n",
    "        outputs.append(get_afn_sentiment(inp))\n",
    "    return outputs\n",
    "\n",
    "        \n",
    "def get_combined_predictions_for_groundtruth():\n",
    "    outputs = []\n",
    "    for index in range(len(inputs)):\n",
    "        inp = inputs[index]\n",
    "        outputs.append(get_combined_label(text_blob_predictions[index], get_vader_sentiment(inp), get_afn_sentiment(inp)))\n",
    "        \n",
    "    return outputs\n",
    "\n",
    "def get_accuracy(x):\n",
    "    sum = 0\n",
    "    for index in range(len(x)):\n",
    "        if(x[index] == expected_op[index]):\n",
    "            sum+=1\n",
    "    print(sum/len(x)*100)\n",
    "\n",
    "text_blob_predictions = ['neutral','neutral','positive','positive','positive','positive','neutral','neutral','positive','neutral','negative','positive','negative','negative','negative','positive','positive','negative','negative','negative','positive','positive','positive','positive','negative','positive','positive','positive','positive','neutral','neutral','positive','negative','neutral','neutral','negative','negative','neutral','positive','negative','positive','positive','neutral','positive','positive','positive','neutral','positive','neutral','neutral','positive','positive','positive','negative','positive','negative','positive','positive','negative','negative','negative','neutral','neutral','neutral','neutral','neutral','positive','positive','positive','positive','negative','positive','positive','neutral','neutral','positive','negative','neutral','positive','positive','positive','positive','positive','positive','positive','neutral','positive','neutral','neutral','neutral','neutral','positive','neutral','neutral','negative','negative','neutral','neutral','positive','positive']\n",
    "afn_predictions = get_afn_predictions_for_ground_truth()\n",
    "vader_predictions = get_vader_predictions_for_ground_truth()\n",
    "ensemble_predictions = get_combined_predictions_for_groundtruth()"
   ]
  },
  {
   "cell_type": "code",
   "execution_count": 9,
   "metadata": {},
   "outputs": [
    {
     "name": "stdout",
     "output_type": "stream",
     "text": [
      "57.99999999999999\n"
     ]
    }
   ],
   "source": [
    "get_accuracy(afn_predictions)"
   ]
  },
  {
   "cell_type": "code",
   "execution_count": 10,
   "metadata": {},
   "outputs": [
    {
     "data": {
      "text/plain": [
       "100"
      ]
     },
     "execution_count": 10,
     "metadata": {},
     "output_type": "execute_result"
    }
   ],
   "source": [
    "len(text_blob_predictions)"
   ]
  },
  {
   "cell_type": "code",
   "execution_count": 11,
   "metadata": {},
   "outputs": [
    {
     "name": "stdout",
     "output_type": "stream",
     "text": [
      "41.0\n"
     ]
    }
   ],
   "source": [
    "get_accuracy(text_blob_predictions)"
   ]
  },
  {
   "cell_type": "code",
   "execution_count": 12,
   "metadata": {},
   "outputs": [
    {
     "name": "stdout",
     "output_type": "stream",
     "text": [
      "55.00000000000001\n"
     ]
    }
   ],
   "source": [
    "get_accuracy(vader_predictions)"
   ]
  },
  {
   "cell_type": "code",
   "execution_count": 13,
   "metadata": {},
   "outputs": [
    {
     "name": "stdout",
     "output_type": "stream",
     "text": [
      "54.0\n"
     ]
    }
   ],
   "source": [
    "get_accuracy(ensemble_predictions)"
   ]
  },
  {
   "cell_type": "code",
   "execution_count": 14,
   "metadata": {},
   "outputs": [],
   "source": [
    "from sklearn.metrics import accuracy_score\n",
    "from sklearn.metrics import precision_score\n",
    "from sklearn.metrics import recall_score\n",
    "from sklearn.metrics import f1_score\n",
    "import numpy as np"
   ]
  },
  {
   "cell_type": "code",
   "execution_count": 15,
   "metadata": {},
   "outputs": [],
   "source": [
    "def get_metrics(expected, predictions, model):\n",
    "    # metrics by class\n",
    "    print(\"Metrics for \", model)\n",
    "    accuracy = accuracy_score(expected, predictions)\n",
    "    precision = precision_score(expected, predictions, average=None)\n",
    "    recall = recall_score(expected, predictions, average=None)\n",
    "    f1 = f1_score(expected, predictions, average=None)\n",
    "    print(\"accuracy: \", np.round(accuracy,2))\n",
    "    print(\"precision: \", np.round(precision,2))\n",
    "    print(\"recall: \", np.round(recall,2))\n",
    "    print(\"f1_score: \", np.round(f1,2))\n",
    "    \n",
    "def get_average_metrics(expected, predictions, model):\n",
    "    # metrics by class\n",
    "    print(\"Metrics for \", model)\n",
    "    accuracy = accuracy_score(expected, predictions)\n",
    "    precision = precision_score(expected, predictions, average=None)\n",
    "    recall = recall_score(expected, predictions, average=Micro)\n",
    "    f1 = f1_score(expected, predictions, average=micro)\n",
    "    print(\"accuracy: \", np.round(accuracy,2))\n",
    "    print(\"precision: \", np.round(precision,2))\n",
    "    print(\"recall: \", np.round(recall,2))\n",
    "    print(\"f1_score: \", np.round(f1,2))"
   ]
  },
  {
   "cell_type": "code",
   "execution_count": 16,
   "metadata": {},
   "outputs": [
    {
     "name": "stdout",
     "output_type": "stream",
     "text": [
      "Metrics for  afinn\n",
      "accuracy:  0.58\n",
      "precision:  [0.72 0.54 0.46]\n",
      "recall:  [0.58 0.48 0.7 ]\n",
      "f1_score:  [0.64 0.51 0.55]\n"
     ]
    }
   ],
   "source": [
    "get_metrics(expected_op, afn_predictions, \"afinn\")"
   ]
  },
  {
   "cell_type": "code",
   "execution_count": 17,
   "metadata": {},
   "outputs": [
    {
     "name": "stdout",
     "output_type": "stream",
     "text": [
      "Metrics for  vader\n",
      "accuracy:  0.55\n",
      "precision:  [0.69 0.5  0.46]\n",
      "recall:  [0.5  0.45 0.78]\n",
      "f1_score:  [0.58 0.47 0.58]\n"
     ]
    }
   ],
   "source": [
    "get_metrics(expected_op, vader_predictions, \"vader\")"
   ]
  },
  {
   "cell_type": "code",
   "execution_count": 18,
   "metadata": {},
   "outputs": [
    {
     "name": "stdout",
     "output_type": "stream",
     "text": [
      "Metrics for  text_blob\n",
      "accuracy:  0.41\n",
      "precision:  [0.48 0.42 0.38]\n",
      "recall:  [0.21 0.45 0.78]\n",
      "f1_score:  [0.29 0.43 0.51]\n"
     ]
    }
   ],
   "source": [
    "get_metrics(expected_op, text_blob_predictions, \"text_blob\")"
   ]
  },
  {
   "cell_type": "code",
   "execution_count": 19,
   "metadata": {},
   "outputs": [
    {
     "name": "stdout",
     "output_type": "stream",
     "text": [
      "Metrics for  ensemble\n",
      "accuracy:  0.54\n",
      "precision:  [0.67 0.46 0.47]\n",
      "recall:  [0.5  0.45 0.74]\n",
      "f1_score:  [0.57 0.46 0.58]\n"
     ]
    }
   ],
   "source": [
    "get_metrics(expected_op, ensemble_predictions, \"ensemble\")"
   ]
  },
  {
   "cell_type": "markdown",
   "metadata": {},
   "source": [
    "## Weighted, Macro, Micro F1_score"
   ]
  },
  {
   "cell_type": "code",
   "execution_count": 20,
   "metadata": {},
   "outputs": [],
   "source": [
    "df_senti = pd.read_csv('src/Groundtruth-temp.csv')\n",
    "sentistrength_predictions = list(str(i).lower() for i in df_senti['Sentiment'])"
   ]
  },
  {
   "cell_type": "code",
   "execution_count": 21,
   "metadata": {},
   "outputs": [],
   "source": [
    "predition_dic = {\n",
    "    'afinn': afn_predictions,\n",
    "    'vader': vader_predictions,\n",
    "    'text_blob': text_blob_predictions,\n",
    "    'sentistrength': sentistrength_predictions,\n",
    "    'ensemble': ensemble_predictions,\n",
    "}\n",
    "ml_models = list(predition_dic.keys())\n",
    "measures = ['Accuracy', 'Weighted-F1', 'Macro-F1', 'Micro-F1']\n",
    "accuracy_lst = dict()\n",
    "f1_weighted_lst = dict()\n",
    "f1_micro_lst = dict()\n",
    "f1_macro_lst = dict()\n"
   ]
  },
  {
   "cell_type": "code",
   "execution_count": 22,
   "metadata": {},
   "outputs": [],
   "source": [
    "from sklearn.metrics import f1_score\n",
    "from sklearn.metrics import accuracy_score\n",
    "y_true = expected_op\n",
    "for name, y_pred in predition_dic.items():\n",
    "    accuracy_lst[name] = float(str(round(accuracy_score(y_true, y_pred), 6)))\n",
    "    f1_weighted_lst[name] = float(str(round(f1_score(y_true, y_pred, average='macro'), 6)))\n",
    "    f1_micro_lst[name] = float(str(round(f1_score(y_true, y_pred, average='micro'), 6)))\n",
    "    f1_macro_lst[name] = float(str(round(f1_score(y_true, y_pred, average='weighted'), 6)))\n"
   ]
  },
  {
   "cell_type": "code",
   "execution_count": 23,
   "metadata": {},
   "outputs": [
    {
     "data": {
      "text/plain": [
       "{'ML Models': ['afinn', 'vader', 'text_blob', 'sentistrength', 'ensemble'],\n",
       " 'Accuracy': [0.58, 0.55, 0.41, 0.46, 0.54],\n",
       " 'Weighted-F1': [0.568164, 0.543895, 0.410077, 0.278537, 0.534613],\n",
       " 'Macro-F1': [0.58, 0.55, 0.41, 0.46, 0.54],\n",
       " 'Micro-F1': [0.583498, 0.54823, 0.381417, 0.451062, 0.539109]}"
      ]
     },
     "execution_count": 23,
     "metadata": {},
     "output_type": "execute_result"
    }
   ],
   "source": [
    "measures_comparison = {\n",
    "    'ML Models': ml_models,\n",
    "    'Accuracy': list(accuracy_lst.values()),\n",
    "    'Weighted-F1': list(f1_weighted_lst.values()),\n",
    "    'Macro-F1': list(f1_micro_lst.values()), \n",
    "    'Micro-F1': list(f1_macro_lst.values())\n",
    "}\n",
    "measures_comparison"
   ]
  },
  {
   "cell_type": "code",
   "execution_count": 24,
   "metadata": {},
   "outputs": [
    {
     "data": {
      "text/html": [
       "<style  type=\"text/css\" >\n",
       "    #T_41b4b1fc_9bbf_11ea_82eb_acde48001122row0_col1 {\n",
       "            background-color:  #08306b;\n",
       "            color:  #f1f1f1;\n",
       "        }    #T_41b4b1fc_9bbf_11ea_82eb_acde48001122row0_col2 {\n",
       "            background-color:  #08306b;\n",
       "            color:  #f1f1f1;\n",
       "        }    #T_41b4b1fc_9bbf_11ea_82eb_acde48001122row0_col3 {\n",
       "            background-color:  #08306b;\n",
       "            color:  #f1f1f1;\n",
       "        }    #T_41b4b1fc_9bbf_11ea_82eb_acde48001122row0_col4 {\n",
       "            background-color:  #08306b;\n",
       "            color:  #f1f1f1;\n",
       "        }    #T_41b4b1fc_9bbf_11ea_82eb_acde48001122row1_col1 {\n",
       "            background-color:  #125ea6;\n",
       "            color:  #f1f1f1;\n",
       "        }    #T_41b4b1fc_9bbf_11ea_82eb_acde48001122row1_col2 {\n",
       "            background-color:  #08468b;\n",
       "            color:  #f1f1f1;\n",
       "        }    #T_41b4b1fc_9bbf_11ea_82eb_acde48001122row1_col3 {\n",
       "            background-color:  #125ea6;\n",
       "            color:  #f1f1f1;\n",
       "        }    #T_41b4b1fc_9bbf_11ea_82eb_acde48001122row1_col4 {\n",
       "            background-color:  #125da6;\n",
       "            color:  #f1f1f1;\n",
       "        }    #T_41b4b1fc_9bbf_11ea_82eb_acde48001122row2_col1 {\n",
       "            background-color:  #f7fbff;\n",
       "            color:  #000000;\n",
       "        }    #T_41b4b1fc_9bbf_11ea_82eb_acde48001122row2_col2 {\n",
       "            background-color:  #7db8da;\n",
       "            color:  #000000;\n",
       "        }    #T_41b4b1fc_9bbf_11ea_82eb_acde48001122row2_col3 {\n",
       "            background-color:  #f7fbff;\n",
       "            color:  #000000;\n",
       "        }    #T_41b4b1fc_9bbf_11ea_82eb_acde48001122row2_col4 {\n",
       "            background-color:  #f7fbff;\n",
       "            color:  #000000;\n",
       "        }    #T_41b4b1fc_9bbf_11ea_82eb_acde48001122row3_col1 {\n",
       "            background-color:  #b8d5ea;\n",
       "            color:  #000000;\n",
       "        }    #T_41b4b1fc_9bbf_11ea_82eb_acde48001122row3_col2 {\n",
       "            background-color:  #f7fbff;\n",
       "            color:  #000000;\n",
       "        }    #T_41b4b1fc_9bbf_11ea_82eb_acde48001122row3_col3 {\n",
       "            background-color:  #b8d5ea;\n",
       "            color:  #000000;\n",
       "        }    #T_41b4b1fc_9bbf_11ea_82eb_acde48001122row3_col4 {\n",
       "            background-color:  #a8cee4;\n",
       "            color:  #000000;\n",
       "        }    #T_41b4b1fc_9bbf_11ea_82eb_acde48001122row4_col1 {\n",
       "            background-color:  #1e6db2;\n",
       "            color:  #f1f1f1;\n",
       "        }    #T_41b4b1fc_9bbf_11ea_82eb_acde48001122row4_col2 {\n",
       "            background-color:  #084e98;\n",
       "            color:  #f1f1f1;\n",
       "        }    #T_41b4b1fc_9bbf_11ea_82eb_acde48001122row4_col3 {\n",
       "            background-color:  #1e6db2;\n",
       "            color:  #f1f1f1;\n",
       "        }    #T_41b4b1fc_9bbf_11ea_82eb_acde48001122row4_col4 {\n",
       "            background-color:  #1b69af;\n",
       "            color:  #f1f1f1;\n",
       "        }</style><table id=\"T_41b4b1fc_9bbf_11ea_82eb_acde48001122\" ><thead>    <tr>        <th class=\"blank level0\" ></th>        <th class=\"col_heading level0 col0\" >ML Models</th>        <th class=\"col_heading level0 col1\" >Accuracy</th>        <th class=\"col_heading level0 col2\" >Weighted-F1</th>        <th class=\"col_heading level0 col3\" >Macro-F1</th>        <th class=\"col_heading level0 col4\" >Micro-F1</th>    </tr></thead><tbody>\n",
       "                <tr>\n",
       "                        <th id=\"T_41b4b1fc_9bbf_11ea_82eb_acde48001122level0_row0\" class=\"row_heading level0 row0\" >0</th>\n",
       "                        <td id=\"T_41b4b1fc_9bbf_11ea_82eb_acde48001122row0_col0\" class=\"data row0 col0\" >afinn</td>\n",
       "                        <td id=\"T_41b4b1fc_9bbf_11ea_82eb_acde48001122row0_col1\" class=\"data row0 col1\" >0.580000</td>\n",
       "                        <td id=\"T_41b4b1fc_9bbf_11ea_82eb_acde48001122row0_col2\" class=\"data row0 col2\" >0.568164</td>\n",
       "                        <td id=\"T_41b4b1fc_9bbf_11ea_82eb_acde48001122row0_col3\" class=\"data row0 col3\" >0.580000</td>\n",
       "                        <td id=\"T_41b4b1fc_9bbf_11ea_82eb_acde48001122row0_col4\" class=\"data row0 col4\" >0.583498</td>\n",
       "            </tr>\n",
       "            <tr>\n",
       "                        <th id=\"T_41b4b1fc_9bbf_11ea_82eb_acde48001122level0_row1\" class=\"row_heading level0 row1\" >1</th>\n",
       "                        <td id=\"T_41b4b1fc_9bbf_11ea_82eb_acde48001122row1_col0\" class=\"data row1 col0\" >vader</td>\n",
       "                        <td id=\"T_41b4b1fc_9bbf_11ea_82eb_acde48001122row1_col1\" class=\"data row1 col1\" >0.550000</td>\n",
       "                        <td id=\"T_41b4b1fc_9bbf_11ea_82eb_acde48001122row1_col2\" class=\"data row1 col2\" >0.543895</td>\n",
       "                        <td id=\"T_41b4b1fc_9bbf_11ea_82eb_acde48001122row1_col3\" class=\"data row1 col3\" >0.550000</td>\n",
       "                        <td id=\"T_41b4b1fc_9bbf_11ea_82eb_acde48001122row1_col4\" class=\"data row1 col4\" >0.548230</td>\n",
       "            </tr>\n",
       "            <tr>\n",
       "                        <th id=\"T_41b4b1fc_9bbf_11ea_82eb_acde48001122level0_row2\" class=\"row_heading level0 row2\" >2</th>\n",
       "                        <td id=\"T_41b4b1fc_9bbf_11ea_82eb_acde48001122row2_col0\" class=\"data row2 col0\" >text_blob</td>\n",
       "                        <td id=\"T_41b4b1fc_9bbf_11ea_82eb_acde48001122row2_col1\" class=\"data row2 col1\" >0.410000</td>\n",
       "                        <td id=\"T_41b4b1fc_9bbf_11ea_82eb_acde48001122row2_col2\" class=\"data row2 col2\" >0.410077</td>\n",
       "                        <td id=\"T_41b4b1fc_9bbf_11ea_82eb_acde48001122row2_col3\" class=\"data row2 col3\" >0.410000</td>\n",
       "                        <td id=\"T_41b4b1fc_9bbf_11ea_82eb_acde48001122row2_col4\" class=\"data row2 col4\" >0.381417</td>\n",
       "            </tr>\n",
       "            <tr>\n",
       "                        <th id=\"T_41b4b1fc_9bbf_11ea_82eb_acde48001122level0_row3\" class=\"row_heading level0 row3\" >3</th>\n",
       "                        <td id=\"T_41b4b1fc_9bbf_11ea_82eb_acde48001122row3_col0\" class=\"data row3 col0\" >sentistrength</td>\n",
       "                        <td id=\"T_41b4b1fc_9bbf_11ea_82eb_acde48001122row3_col1\" class=\"data row3 col1\" >0.460000</td>\n",
       "                        <td id=\"T_41b4b1fc_9bbf_11ea_82eb_acde48001122row3_col2\" class=\"data row3 col2\" >0.278537</td>\n",
       "                        <td id=\"T_41b4b1fc_9bbf_11ea_82eb_acde48001122row3_col3\" class=\"data row3 col3\" >0.460000</td>\n",
       "                        <td id=\"T_41b4b1fc_9bbf_11ea_82eb_acde48001122row3_col4\" class=\"data row3 col4\" >0.451062</td>\n",
       "            </tr>\n",
       "            <tr>\n",
       "                        <th id=\"T_41b4b1fc_9bbf_11ea_82eb_acde48001122level0_row4\" class=\"row_heading level0 row4\" >4</th>\n",
       "                        <td id=\"T_41b4b1fc_9bbf_11ea_82eb_acde48001122row4_col0\" class=\"data row4 col0\" >ensemble</td>\n",
       "                        <td id=\"T_41b4b1fc_9bbf_11ea_82eb_acde48001122row4_col1\" class=\"data row4 col1\" >0.540000</td>\n",
       "                        <td id=\"T_41b4b1fc_9bbf_11ea_82eb_acde48001122row4_col2\" class=\"data row4 col2\" >0.534613</td>\n",
       "                        <td id=\"T_41b4b1fc_9bbf_11ea_82eb_acde48001122row4_col3\" class=\"data row4 col3\" >0.540000</td>\n",
       "                        <td id=\"T_41b4b1fc_9bbf_11ea_82eb_acde48001122row4_col4\" class=\"data row4 col4\" >0.539109</td>\n",
       "            </tr>\n",
       "    </tbody></table>"
      ],
      "text/plain": [
       "<pandas.io.formats.style.Styler at 0x7fa398035590>"
      ]
     },
     "execution_count": 24,
     "metadata": {},
     "output_type": "execute_result"
    }
   ],
   "source": [
    "df_results = pd.DataFrame(data=measures_comparison)\n",
    "# df_results\n",
    "df_results.style.background_gradient(cmap='Blues')"
   ]
  },
  {
   "cell_type": "code",
   "execution_count": null,
   "metadata": {},
   "outputs": [],
   "source": []
  }
 ],
 "metadata": {
  "kernelspec": {
   "display_name": "Python 3",
   "language": "python",
   "name": "python3"
  },
  "language_info": {
   "codemirror_mode": {
    "name": "ipython",
    "version": 3
   },
   "file_extension": ".py",
   "mimetype": "text/x-python",
   "name": "python",
   "nbconvert_exporter": "python",
   "pygments_lexer": "ipython3",
   "version": "3.7.6"
  }
 },
 "nbformat": 4,
 "nbformat_minor": 2
}
