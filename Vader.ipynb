{
 "cells": [
  {
   "cell_type": "code",
   "execution_count": 2,
   "metadata": {},
   "outputs": [],
   "source": [
    "# importing the dependencies\n",
    "import pandas as pd\n",
    "import numpy as np\n",
    "import itertools\n",
    "import matplotlib.pyplot as plt\n",
    "from sklearn.metrics import confusion_matrix\n",
    "import pickle\n",
    "import sklearn\n",
    "from sklearn import linear_model"
   ]
  },
  {
   "cell_type": "code",
   "execution_count": 74,
   "metadata": {},
   "outputs": [],
   "source": [
    "from vaderSentiment.vaderSentiment import SentimentIntensityAnalyzer \n",
    "\n",
    "sentiment_intensity_analyzer = SentimentIntensityAnalyzer() \n",
    "    \n",
    "def get_vader_sentiment(sentence, threshold=0.1): \n",
    "    if type(sentence) is not str:\n",
    "        return \"null\"\n",
    "     \n",
    "    sentiment_dict = sentiment_intensity_analyzer.polarity_scores(sentence) \n",
    "   \n",
    "    if sentiment_dict['compound'] >= threshold: \n",
    "        return \"positive\" \n",
    "  \n",
    "    elif sentiment_dict['compound'] <= -threshold: \n",
    "        return \"negative\"\n",
    "  \n",
    "    else: \n",
    "        return \"neutral\" "
   ]
  },
  {
   "cell_type": "code",
   "execution_count": 75,
   "metadata": {},
   "outputs": [],
   "source": [
    "import pandas as pd\n",
    "# loading the cleaned training tweets\n",
    "\n",
    "def add_vader_sentiment_column(input_file, output_file):\n",
    "    data = pd.read_csv(input_file)\n",
    "    data['vader_sentiment'] = data['text_clean'].apply(lambda text: get_vader_sentiment(text, 0.1))\n",
    "    data.to_csv(output_file, index=False)"
   ]
  },
  {
   "cell_type": "code",
   "execution_count": 77,
   "metadata": {},
   "outputs": [
    {
     "name": "stderr",
     "output_type": "stream",
     "text": [
      "/usr/lib/python3/dist-packages/IPython/core/interactiveshell.py:2828: DtypeWarning: Columns (0) have mixed types. Specify dtype option on import or set low_memory=False.\n",
      "  if self.run_code(code, result):\n"
     ]
    }
   ],
   "source": [
    "add_vader_sentiment_column('2020-03.csv', '2020-03-vader.csv')"
   ]
  },
  {
   "cell_type": "code",
   "execution_count": null,
   "metadata": {},
   "outputs": [],
   "source": []
  }
 ],
 "metadata": {
  "kernelspec": {
   "display_name": "Python 3",
   "language": "python",
   "name": "python3"
  },
  "language_info": {
   "codemirror_mode": {
    "name": "ipython",
    "version": 3
   },
   "file_extension": ".py",
   "mimetype": "text/x-python",
   "name": "python",
   "nbconvert_exporter": "python",
   "pygments_lexer": "ipython3",
   "version": "3.6.9"
  }
 },
 "nbformat": 4,
 "nbformat_minor": 2
}
